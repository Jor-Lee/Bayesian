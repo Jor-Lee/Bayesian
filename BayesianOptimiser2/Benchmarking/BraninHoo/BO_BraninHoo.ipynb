import numpy as np

def BraninHoo(X):

    f_x = (x2 - (5.1 / (4 * np.pi ** 2)) * x1 ** 2 + (5 / math.pi) * x1 - 6) ** 2
    f_x += 10 * (1 - (1 / (8 * math.pi))) * math.cos(x1) + 10