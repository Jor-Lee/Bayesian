{
 "cells": [
  {
   "cell_type": "code",
   "execution_count": 53,
   "metadata": {},
   "outputs": [],
   "source": [
    "import numpy as np\n",
    "import matplotlib.pyplot as plt\n",
    "import scipy.constants as con\n",
    "import sys\n",
    "import os\n",
    "\n",
    "sys.path.append('../..')\n",
    "import BOPackage"
   ]
  },
  {
   "cell_type": "code",
   "execution_count": 54,
   "metadata": {},
   "outputs": [],
   "source": [
    "def WeldedBeam(X):\n",
    "    x1 = X[:, 0]\n",
    "    x2 = X[:, 1]\n",
    "    x3 = X[:, 2]\n",
    "    x4 = X[:, 3]\n",
    "    \n",
    "    # Calculate the objective function value\n",
    "    y = 1.10471 * x1**2 * x2 + 0.04811 * x3 * x4 * (x2 + 14)\n",
    "    \n",
    "    # Calculate constraint components\n",
    "    tau1 = 6000 / (np.sqrt(2) * x1 * x2)\n",
    "    tau2 = 504000 / (x3**2 * x4)\n",
    "    tau = np.sqrt(tau1**2 + tau2**2 + (x2 * tau1 * tau2) / np.sqrt(0.25 * (x2**2) + (x1 + x3)**2))\n",
    "    \n",
    "    sigma = 504000 / (x3**2 * x4)\n",
    "    \n",
    "    Pc = 64746.022 * (1 - 0.0282346 * x3) * x3 * x4**3\n",
    "    \n",
    "    delta = 2.1952 / (x3 * x4)\n",
    "    \n",
    "    # Apply the constraints\n",
    "    constraint1 = tau - 13000 > 0\n",
    "    constraint2 = sigma - 30000 > 0\n",
    "    constraint3 = x1 - x4 > 0\n",
    "    constraint4 = 6000 - Pc > 0\n",
    "    constraint5 = delta - 0.25 > 0\n",
    "    \n",
    "    # Apply penalties for constraint violations\n",
    "    y[constraint1] = np.inf\n",
    "    y[constraint2] = np.inf\n",
    "    y[constraint3] = np.inf\n",
    "    y[constraint4] = np.inf\n",
    "    y[constraint5] = np.inf\n",
    "    \n",
    "    # Make function negative to find the minimum\n",
    "    y = -y.reshape(-1, 1)\n",
    "    \n",
    "    return y\n",
    "\n",
    "bounds = np.array([[0.125, 10], [0.125, 10], [0.1, 10], [0.1, 10]])\n",
    "length_scale = 2.5\n",
    "acquisition_samples = 1000\n",
    "ObjectiveFunction = WeldedBeam"
   ]
  },
  {
   "cell_type": "code",
   "execution_count": 55,
   "metadata": {},
   "outputs": [],
   "source": [
    "# X1 = np.linspace(bounds[0,0], bounds[0,1], 501, endpoint=True)\n",
    "# X2 = np.linspace(bounds[1,0], bounds[1,1], 501, endpoint=True)\n",
    "\n",
    "# # Create the meshgrid\n",
    "# X1_grid, X2_grid = np.meshgrid(X1, X2)\n",
    "\n",
    "# # Combine the grid into an n**2 x 2 matrix\n",
    "# candidate_x = np.c_[X1_grid.ravel(), X2_grid.ravel()]\n",
    "\n",
    "# result = ObjectiveFunction(candidate_x).reshape(X1_grid.shape)\n",
    "\n",
    "# # Plot the contour\n",
    "# contour = plt.contourf(X1, X2, result, levels=50)\n",
    "\n",
    "# # Add a color bar\n",
    "# plt.colorbar(contour)\n",
    "\n",
    "# # Show the plot\n",
    "# plt.show()"
   ]
  },
  {
   "cell_type": "code",
   "execution_count": 56,
   "metadata": {},
   "outputs": [],
   "source": [
    "\"\"\"\n",
    "Configure the optimiser.\n",
    "\"\"\"\n",
    "random_seed = 50\n",
    "\n",
    "Kernel = BOPackage.RBF_Kernel\n",
    "\n",
    "AcquisitionFunction = BOPackage.UpperConfidenceBound\n",
    "max_kappa = 1\n",
    "min_kappa = 0.05\n",
    "\n",
    "reduce_bounds_factor = 0.5\n",
    "\n",
    "# log_path = '/Users/davidcoope/Desktop/BayesianOptimiser/BraninHoo/BOlog.log'\n",
    "\n",
    "# if os.path.exists(log_path):   \n",
    "#     subprocess.run(['rm', '-rf', log_path], check=True, text=True, capture_output=True)  "
   ]
  },
  {
   "cell_type": "code",
   "execution_count": 57,
   "metadata": {},
   "outputs": [
    {
     "name": "stdout",
     "output_type": "stream",
     "text": [
      "Current best y value was [-11.75033505]; the corresponding X values were [0.25101839 5.46411892 6.16908927 1.96819835]\n",
      "[[ 0.125 10.   ]\n",
      " [ 0.125 10.   ]\n",
      " [ 0.1   10.   ]\n",
      " [ 0.1   10.   ]]\n"
     ]
    }
   ],
   "source": [
    "\"\"\"\n",
    "Configure the optimiser for the standard configuration.\n",
    "\"\"\"\n",
    "\n",
    "dynamic_bounds = False\n",
    "\n",
    "# Create the object\n",
    "bo1 = BOPackage.BO(KernelFunction=Kernel, \n",
    "                  length_scale=length_scale, \n",
    "                  AcquisitionFunction=AcquisitionFunction, \n",
    "                  bounds=bounds, \n",
    "                  acquisition_samples=acquisition_samples,\n",
    "                #   log_path=log_path,\n",
    "                  dynamic_bounds=dynamic_bounds,\n",
    "                  iterations_between_reducing_bounds=None,\n",
    "                  first_reduce_bounds=None,\n",
    "                  reduce_bounds_factor=reduce_bounds_factor,\n",
    "                  random_seed=random_seed)\n",
    "\n",
    "raw_X = bo1.GetRandomXBatch(1)\n",
    "raw_y = ObjectiveFunction(raw_X)\n",
    "bo1.UpdateData(raw_X, raw_y)\n",
    "\n",
    "for i in range(299):\n",
    "    raw_X = bo1.GetNextX(kappa=0.1)\n",
    "    raw_y = ObjectiveFunction(np.array(raw_X))\n",
    "    bo1.UpdateData(raw_X, raw_y)\n",
    "\n",
    "bo1.PrintCurrentStatus()\n",
    "print(bo1.bounds)\n",
    "# BOPackage.PlotData(bo1)\n",
    "\n",
    "BO1 = bo1.BestData()[1][0]"
   ]
  },
  {
   "cell_type": "code",
   "execution_count": 58,
   "metadata": {},
   "outputs": [
    {
     "name": "stdout",
     "output_type": "stream",
     "text": [
      "Current best y value was [-9.4684092]; the corresponding X values were [0.18049582 7.54286653 6.13781647 1.44574152]\n",
      "The bounds have been reduced 5 times\n",
      "[[0.12797424 0.43656799]\n",
      " [7.30551841 7.61411216]\n",
      " [6.03968038 6.34905538]\n",
      " [1.2906355  1.6000105 ]]\n"
     ]
    }
   ],
   "source": [
    "\"\"\"\n",
    "Configure the optimiser with bounds.\n",
    "\"\"\"\n",
    "\n",
    "dynamic_bounds = True\n",
    "iterations_between_reducing_bounds = 30\n",
    "first_reduce_bounds = 100  \n",
    "\n",
    "# Create the object\n",
    "bo2 = BOPackage.BO(KernelFunction=Kernel, \n",
    "                  length_scale=length_scale, \n",
    "                  AcquisitionFunction=AcquisitionFunction, \n",
    "                  bounds=bounds, \n",
    "                  acquisition_samples=acquisition_samples,\n",
    "                #   log_path=log_path,\n",
    "                  dynamic_bounds=dynamic_bounds,\n",
    "                  iterations_between_reducing_bounds=iterations_between_reducing_bounds,\n",
    "                  first_reduce_bounds=first_reduce_bounds,\n",
    "                  reduce_bounds_factor=reduce_bounds_factor,\n",
    "                  random_seed=random_seed)\n",
    "\n",
    "raw_X = bo2.GetRandomXBatch(1)\n",
    "raw_y = ObjectiveFunction(raw_X)\n",
    "bo2.UpdateData(raw_X, raw_y)\n",
    "\n",
    "for i in range(299):\n",
    "    raw_X = bo2.GetNextX(kappa=0.1)\n",
    "    raw_y = ObjectiveFunction(np.array(raw_X))\n",
    "    bo2.UpdateData(raw_X, raw_y)\n",
    "\n",
    "bo2.PrintCurrentStatus()\n",
    "print(bo2.bounds)\n",
    "# BOPackage.PlotData(bo2)\n",
    "\n",
    "BO2 = bo2.BestData()[1][0]"
   ]
  },
  {
   "cell_type": "code",
   "execution_count": 59,
   "metadata": {},
   "outputs": [
    {
     "name": "stdout",
     "output_type": "stream",
     "text": [
      "Current best y value was [-12.45941768]; the corresponding X values were [1.12416584 1.20699505 7.54175373 1.95272196]\n",
      "[[ 0.125 10.   ]\n",
      " [ 0.125 10.   ]\n",
      " [ 0.1   10.   ]\n",
      " [ 0.1   10.   ]]\n"
     ]
    }
   ],
   "source": [
    "\"\"\"\n",
    "Configure the optimiser with batch sampling.\n",
    "\"\"\"\n",
    "\n",
    "dynamic_bounds = False\n",
    "\n",
    "# Create the object\n",
    "bo3 = BOPackage.BO(KernelFunction=Kernel, \n",
    "                  length_scale=length_scale, \n",
    "                  AcquisitionFunction=AcquisitionFunction, \n",
    "                  bounds=bounds, \n",
    "                  acquisition_samples=acquisition_samples,\n",
    "                #   log_path=log_path,\n",
    "                  dynamic_bounds=dynamic_bounds,\n",
    "                  iterations_between_reducing_bounds=iterations_between_reducing_bounds,\n",
    "                  first_reduce_bounds=first_reduce_bounds,\n",
    "                  reduce_bounds_factor=reduce_bounds_factor,\n",
    "                  random_seed=random_seed)\n",
    "\n",
    "raw_X = bo3.GetRandomXBatch(10)\n",
    "raw_y = ObjectiveFunction(raw_X)\n",
    "bo3.UpdateData(raw_X, raw_y)\n",
    "\n",
    "for i in range(29):\n",
    "    raw_X = bo3.GetNextXBatch(10, sub_batch_size=10, max_kappa=max_kappa, min_kappa=min_kappa)\n",
    "    raw_y = ObjectiveFunction(raw_X)\n",
    "    bo3.UpdateData(raw_X, raw_y)\n",
    "\n",
    "bo3.PrintCurrentStatus()\n",
    "print(bo3.bounds)\n",
    "# BOPackage.PlotData(bo3)\n",
    "\n",
    "BO3 = bo3.BestData()[1][0]"
   ]
  },
  {
   "cell_type": "code",
   "execution_count": 60,
   "metadata": {},
   "outputs": [
    {
     "name": "stdout",
     "output_type": "stream",
     "text": [
      "Current best y value was [-12.45941768]; the corresponding X values were [1.12416584 1.20699505 7.54175373 1.95272196]\n",
      "The bounds have been reduced 0 times\n",
      "[[ 0.125 10.   ]\n",
      " [ 0.125 10.   ]\n",
      " [ 0.1   10.   ]\n",
      " [ 0.1   10.   ]]\n"
     ]
    }
   ],
   "source": [
    "\"\"\"\n",
    "Configure the optimiser with sub-batch sampling and bounds reduction.\n",
    "\"\"\"\n",
    "\n",
    "dynamic_bounds = True\n",
    "iterations_between_reducing_bounds = 3\n",
    "first_reduce_bounds = 50 \n",
    "\n",
    "# Create the object\n",
    "bo6 = BOPackage.BO(KernelFunction=Kernel, \n",
    "                  length_scale=length_scale, \n",
    "                  AcquisitionFunction=AcquisitionFunction, \n",
    "                  bounds=bounds, \n",
    "                  acquisition_samples=acquisition_samples,\n",
    "                #   log_path=log_path,\n",
    "                  dynamic_bounds=dynamic_bounds,\n",
    "                  iterations_between_reducing_bounds=iterations_between_reducing_bounds,\n",
    "                  first_reduce_bounds=first_reduce_bounds,\n",
    "                  reduce_bounds_factor=reduce_bounds_factor,\n",
    "                  random_seed=random_seed)\n",
    "\n",
    "raw_X = bo6.GetRandomXBatch(10)\n",
    "raw_y = ObjectiveFunction(raw_X)\n",
    "bo6.UpdateData(raw_X, raw_y)\n",
    "\n",
    "for i in range(29):\n",
    "    raw_X = bo6.GetNextXBatch(10, max_kappa=max_kappa, min_kappa=min_kappa)\n",
    "    raw_y = ObjectiveFunction(raw_X)\n",
    "    bo6.UpdateData(raw_X, raw_y)\n",
    "\n",
    "bo6.PrintCurrentStatus()\n",
    "print(bo6.bounds)\n",
    "# BOPackage.PlotData(bo5)\n",
    "\n",
    "BO6 = bo6.BestData()[1][0]"
   ]
  },
  {
   "cell_type": "code",
   "execution_count": 61,
   "metadata": {},
   "outputs": [
    {
     "name": "stdout",
     "output_type": "stream",
     "text": [
      "Current best y value was [-12.45941768]; the corresponding X values were [1.12416584 1.20699505 7.54175373 1.95272196]\n",
      "[[ 0.125 10.   ]\n",
      " [ 0.125 10.   ]\n",
      " [ 0.1   10.   ]\n",
      " [ 0.1   10.   ]]\n"
     ]
    }
   ],
   "source": [
    "\"\"\"\n",
    "Configure the optimiser with sub-batch sampling.\n",
    "\"\"\"\n",
    "\n",
    "dynamic_bounds = False\n",
    "\n",
    "# Create the object\n",
    "bo4 = BOPackage.BO(KernelFunction=Kernel, \n",
    "                  length_scale=length_scale, \n",
    "                  AcquisitionFunction=AcquisitionFunction, \n",
    "                  bounds=bounds, \n",
    "                  acquisition_samples=acquisition_samples,\n",
    "                #   log_path=log_path,\n",
    "                  dynamic_bounds=dynamic_bounds,\n",
    "                  iterations_between_reducing_bounds=iterations_between_reducing_bounds,\n",
    "                  first_reduce_bounds=first_reduce_bounds,\n",
    "                  reduce_bounds_factor=reduce_bounds_factor,\n",
    "                  random_seed=random_seed)\n",
    "\n",
    "raw_X = bo4.GetRandomXBatch(10)\n",
    "raw_y = ObjectiveFunction(raw_X)\n",
    "bo4.UpdateData(raw_X, raw_y)\n",
    "\n",
    "for i in range(29):\n",
    "    raw_X = bo4.GetNextXBatch(10, sub_batch_size=5, max_kappa=max_kappa, min_kappa=min_kappa)\n",
    "    raw_y = ObjectiveFunction(raw_X)\n",
    "    bo4.UpdateData(raw_X, raw_y)\n",
    "\n",
    "bo4.PrintCurrentStatus()\n",
    "print(bo4.bounds)\n",
    "# BOPackage.PlotData(bo4)\n",
    "\n",
    "BO4 = bo4.BestData()[1][0]"
   ]
  },
  {
   "cell_type": "code",
   "execution_count": 62,
   "metadata": {},
   "outputs": [
    {
     "name": "stdout",
     "output_type": "stream",
     "text": [
      "Current best y value was [-6.75883501]; the corresponding X values were [0.63211338 0.74636543 8.67623654 1.04452223]\n",
      "The bounds have been reduced 4 times\n",
      "[[0.32351963 0.94070713]\n",
      " [0.43777168 1.05495918]\n",
      " [8.65112071 9.26987071]\n",
      " [0.96996464 1.58871464]]\n"
     ]
    }
   ],
   "source": [
    "\"\"\"\n",
    "Configure the optimiser with sub-batch sampling and bounds reduction.\n",
    "\"\"\"\n",
    "\n",
    "dynamic_bounds = True\n",
    "iterations_between_reducing_bounds = 3\n",
    "first_reduce_bounds = 10 \n",
    "\n",
    "# Create the object\n",
    "bo5 = BOPackage.BO(KernelFunction=Kernel, \n",
    "                  length_scale=length_scale, \n",
    "                  AcquisitionFunction=AcquisitionFunction, \n",
    "                  bounds=bounds, \n",
    "                  acquisition_samples=acquisition_samples,\n",
    "                #   log_path=log_path,\n",
    "                  dynamic_bounds=dynamic_bounds,\n",
    "                  iterations_between_reducing_bounds=iterations_between_reducing_bounds,\n",
    "                  first_reduce_bounds=first_reduce_bounds,\n",
    "                  reduce_bounds_factor=reduce_bounds_factor,\n",
    "                  random_seed=random_seed)\n",
    "\n",
    "raw_X = bo5.GetRandomXBatch(10)\n",
    "raw_y = ObjectiveFunction(raw_X)\n",
    "bo5.UpdateData(raw_X, raw_y)\n",
    "\n",
    "for i in range(29):\n",
    "    raw_X = bo5.GetNextXBatch(10, sub_batch_size=5, max_kappa=max_kappa, min_kappa=min_kappa)\n",
    "    raw_y = ObjectiveFunction(raw_X)\n",
    "    bo5.UpdateData(raw_X, raw_y)\n",
    "    \n",
    "\n",
    "bo5.PrintCurrentStatus()\n",
    "print(bo5.bounds)\n",
    "# BOPackage.PlotData(bo5)\n",
    "\n",
    "BO5 = bo5.BestData()[1][0]"
   ]
  },
  {
   "cell_type": "code",
   "execution_count": 63,
   "metadata": {},
   "outputs": [
    {
     "name": "stdout",
     "output_type": "stream",
     "text": [
      "Current best y value was [-12.45941768]; the corresponding X values were [1.12416584 1.20699505 7.54175373 1.95272196]\n",
      "[[ 0.125 10.   ]\n",
      " [ 0.125 10.   ]\n",
      " [ 0.1   10.   ]\n",
      " [ 0.1   10.   ]]\n"
     ]
    }
   ],
   "source": [
    "\"\"\"\n",
    "Configure the optimiser with sub-batch sampling.\n",
    "\"\"\"\n",
    "\n",
    "dynamic_bounds = False\n",
    "\n",
    "# Create the object\n",
    "bo7 = BOPackage.BO(KernelFunction=Kernel, \n",
    "                  length_scale=length_scale, \n",
    "                  AcquisitionFunction=AcquisitionFunction, \n",
    "                  bounds=bounds, \n",
    "                  acquisition_samples=acquisition_samples,\n",
    "                #   log_path=log_path,\n",
    "                  dynamic_bounds=dynamic_bounds,\n",
    "                  iterations_between_reducing_bounds=iterations_between_reducing_bounds,\n",
    "                  first_reduce_bounds=first_reduce_bounds,\n",
    "                  reduce_bounds_factor=reduce_bounds_factor,\n",
    "                  random_seed=random_seed)\n",
    "\n",
    "raw_X = bo7.GetRandomXBatch(10)\n",
    "raw_y = ObjectiveFunction(raw_X)\n",
    "bo7.UpdateData(raw_X, raw_y)\n",
    "\n",
    "for i in range(29):\n",
    "    raw_X = bo4.GetNextXBatch(10, sub_batch_size=2, max_kappa=max_kappa, min_kappa=min_kappa)\n",
    "    raw_y = ObjectiveFunction(raw_X)\n",
    "    bo7.UpdateData(raw_X, raw_y)\n",
    "\n",
    "bo7.PrintCurrentStatus()\n",
    "print(bo7.bounds)\n",
    "# BOPackage.PlotData(bo4)\n",
    "\n",
    "BO7 = bo7.BestData()[1][0]"
   ]
  },
  {
   "cell_type": "code",
   "execution_count": 64,
   "metadata": {},
   "outputs": [
    {
     "name": "stdout",
     "output_type": "stream",
     "text": [
      "Current best y value was [-6.75883501]; the corresponding X values were [0.63211338 0.74636543 8.67623654 1.04452223]\n",
      "The bounds have been reduced 4 times\n",
      "[[0.32351963 0.94070713]\n",
      " [0.43777168 1.05495918]\n",
      " [8.65112071 9.26987071]\n",
      " [0.96996464 1.58871464]]\n"
     ]
    }
   ],
   "source": [
    "\"\"\"\n",
    "Configure the optimiser with sub-batch sampling and bounds reduction.\n",
    "\"\"\"\n",
    "\n",
    "dynamic_bounds = True\n",
    "iterations_between_reducing_bounds = 3\n",
    "first_reduce_bounds = 10 \n",
    "\n",
    "# Create the object\n",
    "bo8 = BOPackage.BO(KernelFunction=Kernel, \n",
    "                  length_scale=length_scale, \n",
    "                  AcquisitionFunction=AcquisitionFunction, \n",
    "                  bounds=bounds, \n",
    "                  acquisition_samples=acquisition_samples,\n",
    "                #   log_path=log_path,\n",
    "                  dynamic_bounds=dynamic_bounds,\n",
    "                  iterations_between_reducing_bounds=iterations_between_reducing_bounds,\n",
    "                  first_reduce_bounds=first_reduce_bounds,\n",
    "                  reduce_bounds_factor=reduce_bounds_factor,\n",
    "                  random_seed=random_seed)\n",
    "\n",
    "raw_X = bo8.GetRandomXBatch(10)\n",
    "raw_y = ObjectiveFunction(raw_X)\n",
    "bo8.UpdateData(raw_X, raw_y)\n",
    "\n",
    "for i in range(29):\n",
    "    raw_X = bo8.GetNextXBatch(10, sub_batch_size=2, max_kappa=max_kappa, min_kappa=min_kappa)\n",
    "    raw_y = ObjectiveFunction(raw_X)\n",
    "    bo8.UpdateData(raw_X, raw_y)\n",
    "    \n",
    "\n",
    "bo8.PrintCurrentStatus()\n",
    "print(bo8.bounds)\n",
    "# BOPackage.PlotData(bo5)\n",
    "\n",
    "BO8 = bo8.BestData()[1][0]"
   ]
  },
  {
   "cell_type": "code",
   "execution_count": 65,
   "metadata": {},
   "outputs": [
    {
     "name": "stdout",
     "output_type": "stream",
     "text": [
      "[-11.75033505] [-9.4684092] [-12.45941768] [-12.45941768] [-12.45941768] [-6.75883501] [-12.45941768] [-6.75883501]\n"
     ]
    }
   ],
   "source": [
    "print(BO1, BO2, BO3, BO6, BO4, BO5, BO7, BO8)"
   ]
  }
 ],
 "metadata": {
  "kernelspec": {
   "display_name": "Python 3",
   "language": "python",
   "name": "python3"
  },
  "language_info": {
   "codemirror_mode": {
    "name": "ipython",
    "version": 3
   },
   "file_extension": ".py",
   "mimetype": "text/x-python",
   "name": "python",
   "nbconvert_exporter": "python",
   "pygments_lexer": "ipython3",
   "version": "3.12.1"
  }
 },
 "nbformat": 4,
 "nbformat_minor": 2
}
