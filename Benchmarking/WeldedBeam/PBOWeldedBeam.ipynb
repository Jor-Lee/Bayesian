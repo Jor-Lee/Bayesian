{
 "cells": [
  {
   "cell_type": "code",
   "execution_count": 34,
   "metadata": {},
   "outputs": [],
   "source": [
    "from bayes_opt import BayesianOptimization\n",
    "from bayes_opt import UtilityFunction\n",
    "\n",
    "import numpy as np\n",
    "import matplotlib.pyplot as plt\n",
    "import logging\n",
    "import os\n",
    "import time\n",
    "import pandas as pd\n",
    "\n",
    "dimensions = 4\n",
    "iterations = 300\n",
    "kappa = 0.1\n",
    "\n",
    "random_seed = 50\n",
    "\n",
    "csv_path = 'PBOResults.csv'\n",
    "log_path = 'PBOlog.log'\n",
    "\n",
    "# Check if the csv file exists and delete it if it does\n",
    "if os.path.exists(csv_path):\n",
    "    os.remove(csv_path)"
   ]
  },
  {
   "cell_type": "code",
   "execution_count": 35,
   "metadata": {},
   "outputs": [],
   "source": [
    "def WeldedBeam(X):\n",
    "    # Calculate the objective function value\n",
    "    y = 1.10471 * X[0]**2 * X[1] + 0.04811 * X[2] * X[3] * (X[1] + 14)\n",
    "    \n",
    "    # Calculate constraint components\n",
    "    tau1 = 6000 / (np.sqrt(2) * X[0] * X[1])\n",
    "    tau2 = 504000 / (X[2]**2 * X[3])\n",
    "    tau = np.sqrt(tau1**2 + tau2**2 + (X[1] * tau1 * tau2) / np.sqrt(0.25 * (X[1]**2) + (X[0] + X[2])**2))\n",
    "    \n",
    "    sigma = 504000 / (X[2]**2 * X[3])\n",
    "    \n",
    "    Pc = 64746.022 * (1 - 0.0282346 * X[2]) * X[2] * X[3]**3\n",
    "    \n",
    "    delta = 2.1952 / (X[2] * X[3])\n",
    "    \n",
    "    # Add the constraints\n",
    "    constraint = (\n",
    "        (tau - 13000 > 0) or\n",
    "        (sigma - 30000 > 0) or\n",
    "        (X[0] - X[3] > 0) or\n",
    "        (6000 - Pc > 0) or\n",
    "        (delta - 0.25 > 0)\n",
    "    )\n",
    "    \n",
    "    if constraint:\n",
    "        y = 2000  # Apply penalty for constraint violation\n",
    "    \n",
    "    # Make function negative to find the minimum\n",
    "    y = -y\n",
    "    \n",
    "    return y\n",
    "\n",
    "bounds = {'x[0]':(0.125,10),'x[2]':(0.125,10),'x[3]':(0.1,10),'x[4]':(0.1,10)}\n",
    "ObjectiveFunction = WeldedBeam"
   ]
  },
  {
   "cell_type": "code",
   "execution_count": 36,
   "metadata": {},
   "outputs": [],
   "source": [
    "def WriteOutput(csv_file, raw_X, raw_Y, iteration):\n",
    "    \"\"\"\n",
    "    Function to write results from each simulation to csv file.\n",
    "\n",
    "    Parameters:\n",
    "    csv_file (string): path to the csv file\n",
    "    raw_X (2d array): the whole batch of input parameters\n",
    "    raw_Y (2d array): the batch of output values\n",
    "    \"\"\"\n",
    "\n",
    "    iteration_numbers = np.full(len(raw_X), iteration)\n",
    "    simulation_numbers = range(0, len(raw_X))\n",
    "\n",
    "    data = {\n",
    "        'Iteration': np.array(iteration_numbers),\n",
    "        'Simulation': np.array(simulation_numbers),\n",
    "        'Result': raw_Y[:],\n",
    "    }\n",
    "\n",
    "    # Add raw_X values with column names\n",
    "    for i in range(np.shape(raw_X)[1]):\n",
    "        data[f'X{i}'] = raw_X[:, i]\n",
    "\n",
    "    df = pd.DataFrame(data)\n",
    "\n",
    "    # Check the output file exists, if not create it and write the headers of each column. Otherwise, append the new row to the file\n",
    "    if not os.path.isfile(csv_file):\n",
    "        df.to_csv(csv_file, index=False)\n",
    "    else:\n",
    "        df.to_csv(csv_file, mode='a', header=False, index=False)"
   ]
  },
  {
   "cell_type": "code",
   "execution_count": 37,
   "metadata": {},
   "outputs": [],
   "source": [
    "# Check if the log file exists and delete it if it does\n",
    "if os.path.exists(log_path):\n",
    "    os.remove(log_path)\n",
    "\n",
    "# Setup logger and set level to INFO\n",
    "logger = logging.getLogger(__name__)\n",
    "logger.setLevel(logging.INFO)\n",
    "\n",
    "# Setup Log_handler - set mode to 'w' to write\n",
    "log_handler = logging.FileHandler(log_path, mode='w')\n",
    "log_handler.setLevel(logging.INFO)\n",
    "\n",
    "# Define the log format (preamble before your message is displayed)\n",
    "log_format = logging.Formatter('%(asctime)s - %(name)s - %(levelname)s - %(message)s')\n",
    "log_handler.setFormatter(log_format)\n",
    "\n",
    "# add the handler to the logger object so you can start writing to the log file\n",
    "logger.addHandler(log_handler)"
   ]
  },
  {
   "cell_type": "code",
   "execution_count": 38,
   "metadata": {},
   "outputs": [],
   "source": [
    "Optimiser = BayesianOptimization(f=None, pbounds=bounds, verbose=2, random_state=1)\n",
    "\n",
    "random_counter = 0\n",
    "np.random.seed(random_seed)\n",
    "\n",
    "for j in range(iterations): \n",
    "\n",
    "    Optimiser.set_bounds(bounds)\n",
    "   \n",
    "    start_time = time.time()\n",
    "    raw_X = []\n",
    "    logger.info(f'Getting X value for iteration {j}')\n",
    "\n",
    "    if j == 0:\n",
    "        next_point = np.array([np.random.uniform(low, high) for (low, high) in bounds.values()])\n",
    "        logger.info(f'Getting X value for iteration {j}. This is the random iteration.')\n",
    "        raw_X.append(list(next_point))\n",
    "\n",
    "    else:\n",
    "        acquisition_function = UtilityFunction(kind=\"ucb\", kappa=kappa)\n",
    "        logger.info(f'Getting X value for iteration {j}')\n",
    "        next_point = Optimiser.suggest(acquisition_function)\n",
    "\n",
    "        #Ensure the point is not a duplicate\n",
    "        counter = 0\n",
    "        while list(next_point.values()) in raw_X:\n",
    "            logger.info(f'Point already exists...recalculating X values. Attempt {counter+1}')\n",
    "            next_point = Optimiser.suggest(acquisition_function)\n",
    "            counter += 1\n",
    "            if counter > 9:\n",
    "                random_counter += 1\n",
    "                logger.info(f'Random X values being used. This has been done {random_counter+1} times so far')\n",
    "                next_point = {f'x[{i}]': np.random.uniform(bounds[f'x[{i}]'][0], bounds[f'x[{i}]'][1]) for i in range(1, dimensions+1)}\n",
    "                break\n",
    "        raw_X.append(list(next_point.values()))\n",
    "\n",
    "    end_time = time.time()\n",
    "    logger.info(f'The time taken to get X value for iteration {j} was {end_time-start_time}')\n",
    "    logger.info('')\n",
    "\n",
    "    raw_Y = []\n",
    "    target = ObjectiveFunction(raw_X[0])\n",
    "    Optimiser.register(params=raw_X[0], target=target)\n",
    "    raw_Y.append(target)\n",
    "\n",
    "    raw_X = np.array(raw_X)\n",
    "    raw_Y = np.array(raw_Y)\n",
    "\n",
    "    WriteOutput(csv_path, raw_X, raw_Y, j)\n",
    "    # Read the csv file into a pandas DataFrame\n",
    "    df = pd.read_csv(csv_path)\n",
    "    # Extract the Y data from the csv file\n",
    "    Y_data = df['Result'].values\n",
    "    # Calculate the current number of iterations at the time of making the graph\n",
    "    Current_Number_Iterations = int(len(Y_data))\n",
    "    # Extract the X data from the csv file\n",
    "    X_data = np.zeros((Current_Number_Iterations, dimensions))\n",
    "    for i in range(Current_Number_Iterations):\n",
    "        for k in range(dimensions):\n",
    "            X_data[i][k] = df[f'X{k}'][i]\n",
    "\n",
    "    logger.info(f'So far, the best result has been {Optimiser.max}')\n",
    "\n",
    "\n",
    "logger.info(Optimiser.max)\n",
    "logger.info(f'Random x values were used {random_counter} times')"
   ]
  },
  {
   "cell_type": "code",
   "execution_count": 39,
   "metadata": {},
   "outputs": [
    {
     "data": {
      "image/png": "[encoded data removed]",
      "text/plain": [
       "<Figure size 640x480 with 1 Axes>"
      ]
     },
     "metadata": {},
     "output_type": "display_data"
    }
   ],
   "source": [
    "Iteration_Y = np.split(Y_data,iterations)\n",
    "\n",
    "np.shape(Iteration_Y[0])\n",
    "\n",
    "for i in range(iterations):\n",
    "    plt.scatter(range(i*len(Iteration_Y[i]),(i+1)*len(Iteration_Y[i])),Iteration_Y[i], s=20)\n"
   ]
  },
  {
   "cell_type": "code",
   "execution_count": 40,
   "metadata": {},
   "outputs": [
    {
     "name": "stdout",
     "output_type": "stream",
     "text": [
      "{'target': np.float64(-12.548722811202005), 'params': {'x[0]': np.float64(3.037553022939493), 'x[2]': np.float64(0.125), 'x[3]': np.float64(5.220992802716301), 'x[4]': np.float64(3.177787330041501)}}\n"
     ]
    }
   ],
   "source": [
    "print(Optimiser.max)"
   ]
  },
  {
   "cell_type": "code",
   "execution_count": null,
   "metadata": {},
   "outputs": [],
   "source": []
  }
 ],
 "metadata": {
  "kernelspec": {
   "display_name": "Python 3",
   "language": "python",
   "name": "python3"
  },
  "language_info": {
   "codemirror_mode": {
    "name": "ipython",
    "version": 3
   },
   "file_extension": ".py",
   "mimetype": "text/x-python",
   "name": "python",
   "nbconvert_exporter": "python",
   "pygments_lexer": "ipython3",
   "version": "3.12.1"
  }
 },
 "nbformat": 4,
 "nbformat_minor": 2
}
