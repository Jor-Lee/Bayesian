{
 "cells": [
  {
   "cell_type": "code",
   "execution_count": 1,
   "metadata": {},
   "outputs": [],
   "source": [
    "import numpy as np\n",
    "import matplotlib.pyplot as plt\n",
    "import os\n",
    "import subprocess\n",
    "\n",
    "os.chdir(\"/Users/davidcoope/Desktop/BayesianOptimiser\")\n",
    "import BOPackage"
   ]
  },
  {
   "cell_type": "code",
   "execution_count": 2,
   "metadata": {},
   "outputs": [
    {
     "ename": "IndexError",
     "evalue": "index 1 is out of bounds for axis 0 with size 1",
     "output_type": "error",
     "traceback": [
      "\u001b[0;31m---------------------------------------------------------------------------\u001b[0m",
      "\u001b[0;31mIndexError\u001b[0m                                Traceback (most recent call last)",
      "Cell \u001b[0;32mIn[2], line 26\u001b[0m\n\u001b[1;32m     23\u001b[0m     \u001b[38;5;28;01mreturn\u001b[39;00m y\n\u001b[1;32m     25\u001b[0m X \u001b[38;5;241m=\u001b[39m np\u001b[38;5;241m.\u001b[39marray([[\u001b[38;5;241m0\u001b[39m,\u001b[38;5;241m0\u001b[39m]])\n\u001b[0;32m---> 26\u001b[0m \u001b[38;5;28mprint\u001b[39m(\u001b[43mTest\u001b[49m\u001b[43m(\u001b[49m\u001b[43mX\u001b[49m\u001b[43m)\u001b[49m)\n",
      "Cell \u001b[0;32mIn[2], line 22\u001b[0m, in \u001b[0;36mTest\u001b[0;34m(X)\u001b[0m\n\u001b[1;32m     20\u001b[0m \u001b[38;5;28;01mdef\u001b[39;00m \u001b[38;5;21mTest\u001b[39m(X):\n\u001b[0;32m---> 22\u001b[0m     y \u001b[38;5;241m=\u001b[39m X[\u001b[38;5;241m0\u001b[39m]\u001b[38;5;241m+\u001b[39m\u001b[43mX\u001b[49m\u001b[43m[\u001b[49m\u001b[38;5;241;43m1\u001b[39;49m\u001b[43m]\u001b[49m\n\u001b[1;32m     23\u001b[0m     \u001b[38;5;28;01mreturn\u001b[39;00m y\n",
      "\u001b[0;31mIndexError\u001b[0m: index 1 is out of bounds for axis 0 with size 1"
     ]
    }
   ],
   "source": [
    "def Rosenbrock(X):\n",
    "    x1 = X[:, 0]\n",
    "    x2 = X[:, 1]\n",
    "    \n",
    "    # Calculate the function value\n",
    "    y = (1 - x1) ** 2 + 100 * (x2 - x1 ** 2) ** 2\n",
    "    \n",
    "    # Add the constraint\n",
    "    constraint = np.abs(np.maximum(x1, x2)) - 1 > 0\n",
    "    y[constraint] = 3000  # Apply penalty for constraint violation\n",
    "\n",
    "    # Make function negative to find the minimum\n",
    "    y = -y.reshape(-1, 1)\n",
    "    \n",
    "    return y\n",
    "\n",
    "bounds = np.array([[-2.048, 2.048], [-2.048, 2.048]])\n",
    "length_scale = 1\n",
    "\n",
    "def Test(X):\n",
    "\n",
    "    y = X[0]+X[1]\n",
    "    return y\n",
    "\n",
    "X = np.array([[0,0]])\n",
    "print(Test(X))"
   ]
  },
  {
   "cell_type": "code",
   "execution_count": null,
   "metadata": {},
   "outputs": [
    {
     "data": {
      "image/png": "[encoded data removed]",
      "text/plain": [
       "<Figure size 640x480 with 2 Axes>"
      ]
     },
     "metadata": {},
     "output_type": "display_data"
    }
   ],
   "source": [
    "X1 = np.linspace(bounds[0,0], bounds[0,1], 501, endpoint=True)\n",
    "X2 = np.linspace(bounds[1,0], bounds[1,1], 501, endpoint=True)\n",
    "\n",
    "# Create the meshgrid\n",
    "X1_grid, X2_grid = np.meshgrid(X1, X2)\n",
    "\n",
    "# Combine the grid into an n**2 x 2 matrix\n",
    "candidate_x = np.c_[X1_grid.ravel(), X2_grid.ravel()]\n",
    "\n",
    "result = -Rosenbrock(candidate_x).reshape(X1_grid.shape)\n",
    "\n",
    "# Plot the contour\n",
    "contour = plt.contourf(X1, X2, result, levels=50, cmap='viridis_r')\n",
    "\n",
    "# Add a color bar\n",
    "plt.colorbar(contour)\n",
    "\n",
    "# Show the plot\n",
    "plt.show()"
   ]
  },
  {
   "cell_type": "code",
   "execution_count": null,
   "metadata": {},
   "outputs": [],
   "source": [
    "\"\"\"\n",
    "Configure the optimiser.\n",
    "\"\"\"\n",
    "ObjectiveFunction = Rosenbrock\n",
    "\n",
    "random_seed = 40\n",
    "\n",
    "Kernel = BOPackage.RBF_Kernel\n",
    "\n",
    "AcquisitionFunction = BOPackage.UpperConfidenceBound\n",
    "max_kappa = 1\n",
    "min_kappa = 0.05\n",
    "\n",
    "acquisition_samples = 100\n",
    "reduce_bounds_factor = 0.5\n",
    "\n",
    "# log_path = '/Users/davidcoope/Desktop/BayesianOptimiser/BraninHoo/BOlog.log'\n",
    "\n",
    "# if os.path.exists(log_path):   \n",
    "#     subprocess.run(['rm', '-rf', log_path], check=True, text=True, capture_output=True)  "
   ]
  },
  {
   "cell_type": "code",
   "execution_count": null,
   "metadata": {},
   "outputs": [
    {
     "name": "stdout",
     "output_type": "stream",
     "text": [
      "[[-387.70376597]]\n",
      "Current best y value was [-0.06181773]; the corresponding X values were [0.7897905  0.61049134]\n",
      "[[-2.048  2.048]\n",
      " [-2.048  2.048]]\n"
     ]
    }
   ],
   "source": [
    "\"\"\"\n",
    "Configure the optimiser for the standard configuration.\n",
    "\"\"\"\n",
    "\n",
    "dynamic_bounds = False\n",
    "\n",
    "# Create the object\n",
    "bo1 = BOPackage.BO(KernelFunction=Kernel, \n",
    "                  length_scale=length_scale, \n",
    "                  AcquisitionFunction=AcquisitionFunction, \n",
    "                  bounds=bounds, \n",
    "                  acquisition_samples=acquisition_samples,\n",
    "                #   log_path=log_path,\n",
    "                  dynamic_bounds=dynamic_bounds,\n",
    "                  iterations_between_reducing_bounds=None,\n",
    "                  first_reduce_bounds=None,\n",
    "                  reduce_bounds_factor=reduce_bounds_factor,\n",
    "                  random_seed=random_seed)\n",
    "\n",
    "raw_X = bo1.GetRandomXBatch(1)\n",
    "raw_y = ObjectiveFunction(raw_X)\n",
    "bo1.UpdateData(raw_X, raw_y)\n",
    "\n",
    "print(raw_y)\n",
    "\n",
    "for i in range(299):\n",
    "    raw_X = bo1.GetNextX(kappa=0.1)\n",
    "    raw_y = ObjectiveFunction(np.array(raw_X))\n",
    "    bo1.UpdateData(raw_X, raw_y)\n",
    "\n",
    "bo1.PrintCurrentStatus()\n",
    "print(bo1.bounds)\n",
    "# BOPackage.PlotData(bo1)\n",
    "\n",
    "BO1 = bo1.BestData()[1][0]"
   ]
  },
  {
   "cell_type": "code",
   "execution_count": null,
   "metadata": {},
   "outputs": [
    {
     "name": "stdout",
     "output_type": "stream",
     "text": [
      "Current best y value was [-0.08115795]; the corresponding X values were [0.71512096 0.51153503]\n",
      "The bounds have been reduced 3 times\n",
      "[[0.47013395 0.98213395]\n",
      " [0.25751254 0.76951254]]\n"
     ]
    }
   ],
   "source": [
    "\"\"\"\n",
    "Configure the optimiser with bounds.\n",
    "\"\"\"\n",
    "\n",
    "dynamic_bounds = True\n",
    "iterations_between_reducing_bounds = 30\n",
    "first_reduce_bounds = 100  \n",
    "\n",
    "# Create the object\n",
    "bo2 = BOPackage.BO(KernelFunction=Kernel, \n",
    "                  length_scale=length_scale, \n",
    "                  AcquisitionFunction=AcquisitionFunction, \n",
    "                  bounds=bounds, \n",
    "                  acquisition_samples=acquisition_samples,\n",
    "                #   log_path=log_path,\n",
    "                  dynamic_bounds=dynamic_bounds,\n",
    "                  iterations_between_reducing_bounds=iterations_between_reducing_bounds,\n",
    "                  first_reduce_bounds=first_reduce_bounds,\n",
    "                  reduce_bounds_factor=reduce_bounds_factor,\n",
    "                  random_seed=random_seed)\n",
    "\n",
    "raw_X = bo2.GetRandomXBatch(1)\n",
    "raw_y = ObjectiveFunction(raw_X)\n",
    "bo2.UpdateData(raw_X, raw_y)\n",
    "\n",
    "for i in range(299):\n",
    "    raw_X = bo2.GetNextX(kappa=0.1)\n",
    "    raw_y = ObjectiveFunction(np.array(raw_X))\n",
    "    bo2.UpdateData(raw_X, raw_y)\n",
    "\n",
    "bo2.PrintCurrentStatus()\n",
    "print(bo2.bounds)\n",
    "# BOPackage.PlotData(bo2)\n",
    "\n",
    "BO2 = bo2.BestData()[1][0]"
   ]
  },
  {
   "cell_type": "code",
   "execution_count": null,
   "metadata": {},
   "outputs": [
    {
     "name": "stdout",
     "output_type": "stream",
     "text": [
      "Current best y value was [-2.29121332]; the corresponding X values were [-0.50827231  0.24556266]\n",
      "[[-2.048  2.048]\n",
      " [-2.048  2.048]]\n"
     ]
    }
   ],
   "source": [
    "\"\"\"\n",
    "Configure the optimiser with batch sampling.\n",
    "\"\"\"\n",
    "\n",
    "dynamic_bounds = False\n",
    "\n",
    "# Create the object\n",
    "bo3 = BOPackage.BO(KernelFunction=Kernel, \n",
    "                  length_scale=length_scale, \n",
    "                  AcquisitionFunction=AcquisitionFunction, \n",
    "                  bounds=bounds, \n",
    "                  acquisition_samples=acquisition_samples,\n",
    "                #   log_path=log_path,\n",
    "                  dynamic_bounds=dynamic_bounds,\n",
    "                  iterations_between_reducing_bounds=iterations_between_reducing_bounds,\n",
    "                  first_reduce_bounds=first_reduce_bounds,\n",
    "                  reduce_bounds_factor=reduce_bounds_factor,\n",
    "                  random_seed=random_seed)\n",
    "\n",
    "raw_X = bo3.GetRandomXBatch(10)\n",
    "raw_y = ObjectiveFunction(raw_X)\n",
    "bo3.UpdateData(raw_X, raw_y)\n",
    "\n",
    "for i in range(29):\n",
    "    raw_X = bo3.GetNextXBatch(10, sub_batch_size=10, max_kappa=max_kappa, min_kappa=min_kappa)\n",
    "    raw_y = ObjectiveFunction(raw_X)\n",
    "    bo3.UpdateData(raw_X, raw_y)\n",
    "\n",
    "bo3.PrintCurrentStatus()\n",
    "print(bo3.bounds)\n",
    "# BOPackage.PlotData(bo3)\n",
    "\n",
    "BO3 = bo3.BestData()[1][0]"
   ]
  },
  {
   "cell_type": "code",
   "execution_count": null,
   "metadata": {},
   "outputs": [
    {
     "name": "stdout",
     "output_type": "stream",
     "text": [
      "Current best y value was [-0.24895603]; the corresponding X values were [0.51356778 0.2748603 ]\n",
      "The bounds have been reduced 2 times\n",
      "[[-0.50827231  0.51572769]\n",
      " [-0.21742593  0.80657407]]\n"
     ]
    }
   ],
   "source": [
    "\"\"\"\n",
    "Configure the optimiser with sub-batch sampling and bounds reduction.\n",
    "\"\"\"\n",
    "\n",
    "dynamic_bounds = True\n",
    "iterations_between_reducing_bounds = 3\n",
    "first_reduce_bounds = 10 \n",
    "\n",
    "# Create the object\n",
    "bo6 = BOPackage.BO(KernelFunction=Kernel, \n",
    "                  length_scale=length_scale, \n",
    "                  AcquisitionFunction=AcquisitionFunction, \n",
    "                  bounds=bounds, \n",
    "                  acquisition_samples=acquisition_samples,\n",
    "                #   log_path=log_path,\n",
    "                  dynamic_bounds=dynamic_bounds,\n",
    "                  iterations_between_reducing_bounds=iterations_between_reducing_bounds,\n",
    "                  first_reduce_bounds=first_reduce_bounds,\n",
    "                  reduce_bounds_factor=reduce_bounds_factor,\n",
    "                  random_seed=random_seed)\n",
    "\n",
    "raw_X = bo6.GetRandomXBatch(10)\n",
    "raw_y = ObjectiveFunction(raw_X)\n",
    "bo6.UpdateData(raw_X, raw_y)\n",
    "\n",
    "for i in range(29):\n",
    "    raw_X = bo6.GetNextXBatch(10, max_kappa=max_kappa, min_kappa=min_kappa)\n",
    "    raw_y = ObjectiveFunction(raw_X)\n",
    "    bo6.UpdateData(raw_X, raw_y)\n",
    "\n",
    "bo6.PrintCurrentStatus()\n",
    "print(bo6.bounds)\n",
    "# BOPackage.PlotData(bo5)\n",
    "\n",
    "BO6 = bo6.BestData()[1][0]"
   ]
  },
  {
   "cell_type": "code",
   "execution_count": null,
   "metadata": {},
   "outputs": [
    {
     "name": "stdout",
     "output_type": "stream",
     "text": [
      "Current best y value was [-0.35763952]; the corresponding X values were [0.40296815 0.16583658]\n",
      "[[-2.048  2.048]\n",
      " [-2.048  2.048]]\n"
     ]
    }
   ],
   "source": [
    "\"\"\"\n",
    "Configure the optimiser with sub-batch sampling.\n",
    "\"\"\"\n",
    "\n",
    "dynamic_bounds = False\n",
    "\n",
    "# Create the object\n",
    "bo4 = BOPackage.BO(KernelFunction=Kernel, \n",
    "                  length_scale=length_scale, \n",
    "                  AcquisitionFunction=AcquisitionFunction, \n",
    "                  bounds=bounds, \n",
    "                  acquisition_samples=acquisition_samples,\n",
    "                #   log_path=log_path,\n",
    "                  dynamic_bounds=dynamic_bounds,\n",
    "                  iterations_between_reducing_bounds=iterations_between_reducing_bounds,\n",
    "                  first_reduce_bounds=first_reduce_bounds,\n",
    "                  reduce_bounds_factor=reduce_bounds_factor,\n",
    "                  random_seed=random_seed)\n",
    "\n",
    "raw_X = bo4.GetRandomXBatch(10)\n",
    "raw_y = ObjectiveFunction(raw_X)\n",
    "bo4.UpdateData(raw_X, raw_y)\n",
    "\n",
    "for i in range(29):\n",
    "    raw_X = bo4.GetNextXBatch(10, sub_batch_size=2, max_kappa=max_kappa, min_kappa=min_kappa)\n",
    "    raw_y = ObjectiveFunction(raw_X)\n",
    "    bo4.UpdateData(raw_X, raw_y)\n",
    "\n",
    "bo4.PrintCurrentStatus()\n",
    "print(bo4.bounds)\n",
    "# BOPackage.PlotData(bo4)\n",
    "\n",
    "BO4 = bo4.BestData()[1][0]"
   ]
  },
  {
   "cell_type": "code",
   "execution_count": null,
   "metadata": {},
   "outputs": [
    {
     "name": "stdout",
     "output_type": "stream",
     "text": [
      "Current best y value was [-0.84894996]; the corresponding X values were [ 0.08383046 -0.00276191]\n",
      "The bounds have been reduced 5 times\n",
      "[[-0.04188552  0.08611448]\n",
      " [-0.05086261  0.07713739]]\n"
     ]
    }
   ],
   "source": [
    "\"\"\"\n",
    "Configure the optimiser with sub-batch sampling and bounds reduction.\n",
    "\"\"\"\n",
    "\n",
    "dynamic_bounds = True\n",
    "iterations_between_reducing_bounds = 3\n",
    "first_reduce_bounds = 10 \n",
    "\n",
    "# Create the object\n",
    "bo5 = BOPackage.BO(KernelFunction=Kernel, \n",
    "                  length_scale=length_scale, \n",
    "                  AcquisitionFunction=AcquisitionFunction, \n",
    "                  bounds=bounds, \n",
    "                  acquisition_samples=acquisition_samples,\n",
    "                #   log_path=log_path,\n",
    "                  dynamic_bounds=dynamic_bounds,\n",
    "                  iterations_between_reducing_bounds=iterations_between_reducing_bounds,\n",
    "                  first_reduce_bounds=first_reduce_bounds,\n",
    "                  reduce_bounds_factor=reduce_bounds_factor,\n",
    "                  random_seed=random_seed)\n",
    "\n",
    "raw_X = bo5.GetRandomXBatch(10)\n",
    "raw_y = ObjectiveFunction(raw_X)\n",
    "bo5.UpdateData(raw_X, raw_y)\n",
    "\n",
    "for i in range(29):\n",
    "    raw_X = bo5.GetNextXBatch(10, sub_batch_size=2, max_kappa=max_kappa, min_kappa=min_kappa)\n",
    "    raw_y = ObjectiveFunction(raw_X)\n",
    "    bo5.UpdateData(raw_X, raw_y)\n",
    "    \n",
    "\n",
    "bo5.PrintCurrentStatus()\n",
    "print(bo5.bounds)\n",
    "# BOPackage.PlotData(bo5)\n",
    "\n",
    "BO5 = bo5.BestData()[1][0]"
   ]
  },
  {
   "cell_type": "code",
   "execution_count": null,
   "metadata": {},
   "outputs": [
    {
     "name": "stdout",
     "output_type": "stream",
     "text": [
      "Current best y value was [-0.35763952]; the corresponding X values were [0.40296815 0.16583658]\n",
      "[[-2.048  2.048]\n",
      " [-2.048  2.048]]\n"
     ]
    }
   ],
   "source": [
    "\"\"\"\n",
    "Configure the optimiser with sub-batch sampling.\n",
    "\"\"\"\n",
    "\n",
    "dynamic_bounds = False\n",
    "\n",
    "# Create the object\n",
    "bo7 = BOPackage.BO(KernelFunction=Kernel, \n",
    "                  length_scale=length_scale, \n",
    "                  AcquisitionFunction=AcquisitionFunction, \n",
    "                  bounds=bounds, \n",
    "                  acquisition_samples=acquisition_samples,\n",
    "                #   log_path=log_path,\n",
    "                  dynamic_bounds=dynamic_bounds,\n",
    "                  iterations_between_reducing_bounds=iterations_between_reducing_bounds,\n",
    "                  first_reduce_bounds=first_reduce_bounds,\n",
    "                  reduce_bounds_factor=reduce_bounds_factor,\n",
    "                  random_seed=random_seed)\n",
    "\n",
    "raw_X = bo7.GetRandomXBatch(10)\n",
    "raw_y = ObjectiveFunction(raw_X)\n",
    "bo7.UpdateData(raw_X, raw_y)\n",
    "\n",
    "for i in range(29):\n",
    "    raw_X = bo4.GetNextXBatch(10, sub_batch_size=2, max_kappa=max_kappa, min_kappa=min_kappa)\n",
    "    raw_y = ObjectiveFunction(raw_X)\n",
    "    bo7.UpdateData(raw_X, raw_y)\n",
    "\n",
    "bo7.PrintCurrentStatus()\n",
    "print(bo7.bounds)\n",
    "# BOPackage.PlotData(bo4)\n",
    "\n",
    "BO7 = bo7.BestData()[1][0]"
   ]
  },
  {
   "cell_type": "code",
   "execution_count": null,
   "metadata": {},
   "outputs": [
    {
     "name": "stdout",
     "output_type": "stream",
     "text": [
      "Current best y value was [-0.84894996]; the corresponding X values were [ 0.08383046 -0.00276191]\n",
      "The bounds have been reduced 5 times\n",
      "[[-0.04188552  0.08611448]\n",
      " [-0.05086261  0.07713739]]\n"
     ]
    }
   ],
   "source": [
    "\"\"\"\n",
    "Configure the optimiser with sub-batch sampling and bounds reduction.\n",
    "\"\"\"\n",
    "\n",
    "dynamic_bounds = True\n",
    "iterations_between_reducing_bounds = 3\n",
    "first_reduce_bounds = 10 \n",
    "\n",
    "# Create the object\n",
    "bo8 = BOPackage.BO(KernelFunction=Kernel, \n",
    "                  length_scale=length_scale, \n",
    "                  AcquisitionFunction=AcquisitionFunction, \n",
    "                  bounds=bounds, \n",
    "                  acquisition_samples=acquisition_samples,\n",
    "                #   log_path=log_path,\n",
    "                  dynamic_bounds=dynamic_bounds,\n",
    "                  iterations_between_reducing_bounds=iterations_between_reducing_bounds,\n",
    "                  first_reduce_bounds=first_reduce_bounds,\n",
    "                  reduce_bounds_factor=reduce_bounds_factor,\n",
    "                  random_seed=random_seed)\n",
    "\n",
    "raw_X = bo8.GetRandomXBatch(10)\n",
    "raw_y = ObjectiveFunction(raw_X)\n",
    "bo8.UpdateData(raw_X, raw_y)\n",
    "\n",
    "for i in range(29):\n",
    "    raw_X = bo8.GetNextXBatch(10, sub_batch_size=2, max_kappa=max_kappa, min_kappa=min_kappa)\n",
    "    raw_y = ObjectiveFunction(raw_X)\n",
    "    bo8.UpdateData(raw_X, raw_y)\n",
    "    \n",
    "\n",
    "bo8.PrintCurrentStatus()\n",
    "print(bo8.bounds)\n",
    "# BOPackage.PlotData(bo5)\n",
    "\n",
    "BO8 = bo8.BestData()[1][0]"
   ]
  },
  {
   "cell_type": "code",
   "execution_count": null,
   "metadata": {},
   "outputs": [
    {
     "name": "stdout",
     "output_type": "stream",
     "text": [
      "[-0.06181773] [-0.08115795] [-2.29121332] [-0.24895603] [-0.35763952] [-0.84894996] [-0.35763952] [-0.84894996]\n"
     ]
    }
   ],
   "source": [
    "print(BO1, BO2, BO3, BO6, BO4, BO5, BO7, BO8)"
   ]
  },
  {
   "cell_type": "markdown",
   "metadata": {},
   "source": []
  }
 ],
 "metadata": {
  "kernelspec": {
   "display_name": "Python 3",
   "language": "python",
   "name": "python3"
  },
  "language_info": {
   "codemirror_mode": {
    "name": "ipython",
    "version": 3
   },
   "file_extension": ".py",
   "mimetype": "text/x-python",
   "name": "python",
   "nbconvert_exporter": "python",
   "pygments_lexer": "ipython3",
   "version": "3.12.1"
  }
 },
 "nbformat": 4,
 "nbformat_minor": 2
}
