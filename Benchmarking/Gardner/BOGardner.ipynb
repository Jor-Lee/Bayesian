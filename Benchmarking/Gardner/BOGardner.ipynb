{
 "cells": [
  {
   "cell_type": "code",
   "execution_count": 6,
   "metadata": {},
   "outputs": [],
   "source": [
    "import numpy as np\n",
    "import matplotlib.pyplot as plt\n",
    "import os\n",
    "import subprocess\n",
    "\n",
    "os.chdir(\"/Users/davidcoope/Desktop/BayesianOptimiser\")\n",
    "import BOPackage"
   ]
  },
  {
   "cell_type": "code",
   "execution_count": 7,
   "metadata": {},
   "outputs": [],
   "source": [
    "def Gardner(X):\n",
    "    x1 = X[:, 0]\n",
    "    x2 = X[:, 1]\n",
    "\n",
    "    # Calculate the objective function value\n",
    "    y = np.sin(x1) + x2\n",
    "    \n",
    "    # Apply the constraint\n",
    "    constraint = np.sin(x1) * np.sin(x2) + 0.95 > 0\n",
    "    \n",
    "    # Apply penalty for constraint violation\n",
    "    y[constraint] = 20\n",
    "    \n",
    "    # Make function negative to find the minimum\n",
    "    y = -y.reshape(-1, 1)\n",
    "    \n",
    "    return y\n",
    "\n",
    "bounds = np.array([[0, 2*np.pi], [0, 2*np.pi]])\n",
    "\n",
    "length_scale = 2*np.pi\n",
    "acquisition_samples = 100\n",
    "ObjectiveFunction = Gardner"
   ]
  },
  {
   "cell_type": "code",
   "execution_count": 8,
   "metadata": {},
   "outputs": [
    {
     "data": {
      "image/png": "[encoded data removed]",
      "text/plain": [
       "<Figure size 640x480 with 2 Axes>"
      ]
     },
     "metadata": {},
     "output_type": "display_data"
    }
   ],
   "source": [
    "X1 = np.linspace(bounds[0,0], bounds[0,1], 501, endpoint=True)\n",
    "X2 = np.linspace(bounds[1,0], bounds[1,1], 501, endpoint=True)\n",
    "\n",
    "# Create the meshgrid\n",
    "X1_grid, X2_grid = np.meshgrid(X1, X2)\n",
    "\n",
    "# Combine the grid into an n**2 x 2 matrix\n",
    "candidate_x = np.c_[X1_grid.ravel(), X2_grid.ravel()]\n",
    "\n",
    "result = -ObjectiveFunction(candidate_x).reshape(X1_grid.shape)\n",
    "\n",
    "# Plot the contour\n",
    "contour = plt.contourf(X1, X2, result, levels=50, cmap='viridis_r')\n",
    "\n",
    "# Add a color bar\n",
    "plt.colorbar(contour)\n",
    "\n",
    "# Show the plot\n",
    "plt.show()"
   ]
  },
  {
   "cell_type": "code",
   "execution_count": 9,
   "metadata": {},
   "outputs": [],
   "source": [
    "\"\"\"\n",
    "Configure the optimiser.\n",
    "\"\"\"\n",
    "random_seed = 50\n",
    "\n",
    "Kernel = BOPackage.RBF_Kernel\n",
    "\n",
    "AcquisitionFunction = BOPackage.UpperConfidenceBound\n",
    "max_kappa = 1\n",
    "min_kappa = 0.05\n",
    "\n",
    "reduce_bounds_factor = 0.5\n",
    "\n",
    "# log_path = '/Users/davidcoope/Desktop/BayesianOptimiser/BraninHoo/BOlog.log'\n",
    "\n",
    "# if os.path.exists(log_path):   \n",
    "#     subprocess.run(['rm', '-rf', log_path], check=True, text=True, capture_output=True)  "
   ]
  },
  {
   "cell_type": "code",
   "execution_count": 10,
   "metadata": {},
   "outputs": [
    {
     "name": "stderr",
     "output_type": "stream",
     "text": [
      "/Users/davidcoope/Desktop/BayesianOptimiser/BOPackage.py:145: RuntimeWarning: invalid value encountered in sqrt\n",
      "  candidate_y = self.AcquisitionFunction(self.mean, np.sqrt(self.variance), kappa)\n"
     ]
    },
    {
     "name": "stdout",
     "output_type": "stream",
     "text": [
      "Current best y value was [-0.27141422]; the corresponding X values were [4.78472724 1.26879895]\n",
      "[[0.         6.28318531]\n",
      " [0.         6.28318531]]\n"
     ]
    }
   ],
   "source": [
    "\"\"\"\n",
    "Configure the optimiser for the standard configuration.\n",
    "\"\"\"\n",
    "\n",
    "dynamic_bounds = False\n",
    "\n",
    "# Create the object\n",
    "bo1 = BOPackage.BO(KernelFunction=Kernel, \n",
    "                  length_scale=length_scale, \n",
    "                  AcquisitionFunction=AcquisitionFunction, \n",
    "                  bounds=bounds, \n",
    "                  acquisition_samples=acquisition_samples,\n",
    "                #   log_path=log_path,\n",
    "                  dynamic_bounds=dynamic_bounds,\n",
    "                  iterations_between_reducing_bounds=None,\n",
    "                  first_reduce_bounds=None,\n",
    "                  reduce_bounds_factor=reduce_bounds_factor,\n",
    "                  random_seed=random_seed)\n",
    "\n",
    "raw_X = bo1.GetRandomXBatch(1)\n",
    "raw_y = ObjectiveFunction(raw_X)\n",
    "bo1.UpdateData(raw_X, raw_y)\n",
    "\n",
    "for i in range(299):\n",
    "    raw_X = bo1.GetNextX(kappa=0.1)\n",
    "    raw_y = ObjectiveFunction(np.array(raw_X))\n",
    "    bo1.UpdateData(raw_X, raw_y)\n",
    "\n",
    "bo1.PrintCurrentStatus()\n",
    "print(bo1.bounds)\n",
    "# BOPackage.PlotData(bo1)\n",
    "\n",
    "BO1 = bo1.BestData()[1][0]"
   ]
  },
  {
   "cell_type": "code",
   "execution_count": 11,
   "metadata": {},
   "outputs": [
    {
     "name": "stdout",
     "output_type": "stream",
     "text": [
      "Current best y value was [-0.2574526]; the corresponding X values were [4.68580521 1.25709927]\n",
      "The bounds have been reduced 7 times\n",
      "[[4.66126151 4.7103489 ]\n",
      " [1.24572875 1.29481614]]\n"
     ]
    }
   ],
   "source": [
    "\"\"\"\n",
    "Configure the optimiser with bounds.\n",
    "\"\"\"\n",
    "\n",
    "dynamic_bounds = True\n",
    "iterations_between_reducing_bounds = 30\n",
    "first_reduce_bounds = 100  \n",
    "\n",
    "# Create the object\n",
    "bo2 = BOPackage.BO(KernelFunction=Kernel, \n",
    "                  length_scale=length_scale, \n",
    "                  AcquisitionFunction=AcquisitionFunction, \n",
    "                  bounds=bounds, \n",
    "                  acquisition_samples=acquisition_samples,\n",
    "                #   log_path=log_path,\n",
    "                  dynamic_bounds=dynamic_bounds,\n",
    "                  iterations_between_reducing_bounds=iterations_between_reducing_bounds,\n",
    "                  first_reduce_bounds=first_reduce_bounds,\n",
    "                  reduce_bounds_factor=reduce_bounds_factor,\n",
    "                  random_seed=random_seed)\n",
    "\n",
    "raw_X = bo2.GetRandomXBatch(1)\n",
    "raw_y = ObjectiveFunction(raw_X)\n",
    "bo2.UpdateData(raw_X, raw_y)\n",
    "\n",
    "for i in range(299):\n",
    "    raw_X = bo2.GetNextX(kappa=0.1)\n",
    "    raw_y = ObjectiveFunction(np.array(raw_X))\n",
    "    bo2.UpdateData(raw_X, raw_y)\n",
    "\n",
    "bo2.PrintCurrentStatus()\n",
    "print(bo2.bounds)\n",
    "# BOPackage.PlotData(bo2)\n",
    "\n",
    "BO2 = bo2.BestData()[1][0]"
   ]
  },
  {
   "cell_type": "code",
   "execution_count": 12,
   "metadata": {},
   "outputs": [
    {
     "name": "stdout",
     "output_type": "stream",
     "text": [
      "Current best y value was [-0.27141422]; the corresponding X values were [4.78472724 1.26879895]\n",
      "[[0.         6.28318531]\n",
      " [0.         6.28318531]]\n"
     ]
    },
    {
     "name": "stderr",
     "output_type": "stream",
     "text": [
      "/Users/davidcoope/Desktop/BayesianOptimiser/BOPackage.py:143: RuntimeWarning: invalid value encountered in sqrt\n",
      "  candidate_y = self.AcquisitionFunction(self.mean, np.sqrt(self.variance))\n"
     ]
    }
   ],
   "source": [
    "\"\"\"\n",
    "Configure the optimiser with batch sampling.\n",
    "\"\"\"\n",
    "\n",
    "dynamic_bounds = False\n",
    "\n",
    "# Create the object\n",
    "bo3 = BOPackage.BO(KernelFunction=Kernel, \n",
    "                  length_scale=length_scale, \n",
    "                  AcquisitionFunction=AcquisitionFunction, \n",
    "                  bounds=bounds, \n",
    "                  acquisition_samples=acquisition_samples,\n",
    "                #   log_path=log_path,\n",
    "                  dynamic_bounds=dynamic_bounds,\n",
    "                  iterations_between_reducing_bounds=iterations_between_reducing_bounds,\n",
    "                  first_reduce_bounds=first_reduce_bounds,\n",
    "                  reduce_bounds_factor=reduce_bounds_factor,\n",
    "                  random_seed=random_seed)\n",
    "\n",
    "raw_X = bo3.GetRandomXBatch(10)\n",
    "raw_y = ObjectiveFunction(raw_X)\n",
    "bo3.UpdateData(raw_X, raw_y)\n",
    "\n",
    "for i in range(29):\n",
    "    raw_X = bo3.GetNextXBatch(10, sub_batch_size=10, max_kappa=max_kappa, min_kappa=min_kappa)\n",
    "    raw_y = ObjectiveFunction(raw_X)\n",
    "    bo3.UpdateData(raw_X, raw_y)\n",
    "\n",
    "bo3.PrintCurrentStatus()\n",
    "print(bo3.bounds)\n",
    "# BOPackage.PlotData(bo3)\n",
    "\n",
    "BO3 = bo3.BestData()[1][0]"
   ]
  },
  {
   "cell_type": "code",
   "execution_count": 13,
   "metadata": {},
   "outputs": [
    {
     "name": "stdout",
     "output_type": "stream",
     "text": [
      "Current best y value was [-0.27141422]; the corresponding X values were [4.78472724 1.26879895]\n",
      "The bounds have been reduced 0 times\n",
      "[[0.         6.28318531]\n",
      " [0.         6.28318531]]\n"
     ]
    }
   ],
   "source": [
    "\"\"\"\n",
    "Configure the optimiser with sub-batch sampling and bounds reduction.\n",
    "\"\"\"\n",
    "\n",
    "dynamic_bounds = True\n",
    "iterations_between_reducing_bounds = 3\n",
    "first_reduce_bounds = 50 \n",
    "\n",
    "# Create the object\n",
    "bo6 = BOPackage.BO(KernelFunction=Kernel, \n",
    "                  length_scale=length_scale, \n",
    "                  AcquisitionFunction=AcquisitionFunction, \n",
    "                  bounds=bounds, \n",
    "                  acquisition_samples=acquisition_samples,\n",
    "                #   log_path=log_path,\n",
    "                  dynamic_bounds=dynamic_bounds,\n",
    "                  iterations_between_reducing_bounds=iterations_between_reducing_bounds,\n",
    "                  first_reduce_bounds=first_reduce_bounds,\n",
    "                  reduce_bounds_factor=reduce_bounds_factor,\n",
    "                  random_seed=random_seed)\n",
    "\n",
    "raw_X = bo6.GetRandomXBatch(10)\n",
    "raw_y = ObjectiveFunction(raw_X)\n",
    "bo6.UpdateData(raw_X, raw_y)\n",
    "\n",
    "for i in range(29):\n",
    "    raw_X = bo6.GetNextXBatch(10, max_kappa=max_kappa, min_kappa=min_kappa)\n",
    "    raw_y = ObjectiveFunction(raw_X)\n",
    "    bo6.UpdateData(raw_X, raw_y)\n",
    "\n",
    "bo6.PrintCurrentStatus()\n",
    "print(bo6.bounds)\n",
    "# BOPackage.PlotData(bo5)\n",
    "\n",
    "BO6 = bo6.BestData()[1][0]"
   ]
  },
  {
   "cell_type": "code",
   "execution_count": 14,
   "metadata": {},
   "outputs": [
    {
     "name": "stdout",
     "output_type": "stream",
     "text": [
      "Current best y value was [-5.3966655]; the corresponding X values were [1.56458399 4.3966848 ]\n",
      "[[0.         6.28318531]\n",
      " [0.         6.28318531]]\n"
     ]
    }
   ],
   "source": [
    "\"\"\"\n",
    "Configure the optimiser with sub-batch sampling.\n",
    "\"\"\"\n",
    "\n",
    "dynamic_bounds = False\n",
    "\n",
    "# Create the object\n",
    "bo4 = BOPackage.BO(KernelFunction=Kernel, \n",
    "                  length_scale=length_scale, \n",
    "                  AcquisitionFunction=AcquisitionFunction, \n",
    "                  bounds=bounds, \n",
    "                  acquisition_samples=acquisition_samples,\n",
    "                #   log_path=log_path,\n",
    "                  dynamic_bounds=dynamic_bounds,\n",
    "                  iterations_between_reducing_bounds=iterations_between_reducing_bounds,\n",
    "                  first_reduce_bounds=first_reduce_bounds,\n",
    "                  reduce_bounds_factor=reduce_bounds_factor,\n",
    "                  random_seed=random_seed)\n",
    "\n",
    "raw_X = bo4.GetRandomXBatch(10)\n",
    "raw_y = ObjectiveFunction(raw_X)\n",
    "bo4.UpdateData(raw_X, raw_y)\n",
    "\n",
    "for i in range(29):\n",
    "    raw_X = bo4.GetNextXBatch(10, sub_batch_size=2, max_kappa=max_kappa, min_kappa=min_kappa)\n",
    "    raw_y = ObjectiveFunction(raw_X)\n",
    "    bo4.UpdateData(raw_X, raw_y)\n",
    "\n",
    "bo4.PrintCurrentStatus()\n",
    "print(bo4.bounds)\n",
    "# BOPackage.PlotData(bo4)\n",
    "\n",
    "BO4 = bo4.BestData()[1][0]"
   ]
  },
  {
   "cell_type": "code",
   "execution_count": 15,
   "metadata": {},
   "outputs": [
    {
     "name": "stdout",
     "output_type": "stream",
     "text": [
      "Current best y value was [-5.45579557]; the corresponding X values were [1.74067573 4.47019041]\n",
      "The bounds have been reduced 5 times\n",
      "[[1.64250096 1.8388505 ]\n",
      " [4.37201564 4.56836518]]\n"
     ]
    }
   ],
   "source": [
    "\"\"\"\n",
    "Configure the optimiser with sub-batch sampling and bounds reduction.\n",
    "\"\"\"\n",
    "\n",
    "dynamic_bounds = True\n",
    "iterations_between_reducing_bounds = 3\n",
    "first_reduce_bounds = 10 \n",
    "\n",
    "# Create the object\n",
    "bo5 = BOPackage.BO(KernelFunction=Kernel, \n",
    "                  length_scale=length_scale, \n",
    "                  AcquisitionFunction=AcquisitionFunction, \n",
    "                  bounds=bounds, \n",
    "                  acquisition_samples=acquisition_samples,\n",
    "                #   log_path=log_path,\n",
    "                  dynamic_bounds=dynamic_bounds,\n",
    "                  iterations_between_reducing_bounds=iterations_between_reducing_bounds,\n",
    "                  first_reduce_bounds=first_reduce_bounds,\n",
    "                  reduce_bounds_factor=reduce_bounds_factor,\n",
    "                  random_seed=random_seed)\n",
    "\n",
    "raw_X = bo5.GetRandomXBatch(10)\n",
    "raw_y = ObjectiveFunction(raw_X)\n",
    "bo5.UpdateData(raw_X, raw_y)\n",
    "\n",
    "for i in range(29):\n",
    "    raw_X = bo5.GetNextXBatch(10, sub_batch_size=2, max_kappa=max_kappa, min_kappa=min_kappa)\n",
    "    raw_y = ObjectiveFunction(raw_X)\n",
    "    bo5.UpdateData(raw_X, raw_y)\n",
    "    \n",
    "\n",
    "bo5.PrintCurrentStatus()\n",
    "print(bo5.bounds)\n",
    "# BOPackage.PlotData(bo5)\n",
    "\n",
    "BO5 = bo5.BestData()[1][0]"
   ]
  },
  {
   "cell_type": "code",
   "execution_count": 16,
   "metadata": {},
   "outputs": [
    {
     "name": "stdout",
     "output_type": "stream",
     "text": [
      "Current best y value was [-5.41980962]; the corresponding X values were [1.60655077 4.42044874]\n",
      "[[0.         6.28318531]\n",
      " [0.         6.28318531]]\n"
     ]
    }
   ],
   "source": [
    "\"\"\"\n",
    "Configure the optimiser with sub-batch sampling.\n",
    "\"\"\"\n",
    "\n",
    "dynamic_bounds = False\n",
    "\n",
    "# Create the object\n",
    "bo7 = BOPackage.BO(KernelFunction=Kernel, \n",
    "                  length_scale=length_scale, \n",
    "                  AcquisitionFunction=AcquisitionFunction, \n",
    "                  bounds=bounds, \n",
    "                  acquisition_samples=acquisition_samples,\n",
    "                #   log_path=log_path,\n",
    "                  dynamic_bounds=dynamic_bounds,\n",
    "                  iterations_between_reducing_bounds=iterations_between_reducing_bounds,\n",
    "                  first_reduce_bounds=first_reduce_bounds,\n",
    "                  reduce_bounds_factor=reduce_bounds_factor,\n",
    "                  random_seed=random_seed)\n",
    "\n",
    "raw_X = bo7.GetRandomXBatch(10)\n",
    "raw_y = ObjectiveFunction(raw_X)\n",
    "bo7.UpdateData(raw_X, raw_y)\n",
    "\n",
    "for i in range(29):\n",
    "    raw_X = bo4.GetNextXBatch(10, sub_batch_size=2, max_kappa=max_kappa, min_kappa=min_kappa)\n",
    "    raw_y = ObjectiveFunction(raw_X)\n",
    "    bo7.UpdateData(raw_X, raw_y)\n",
    "\n",
    "bo7.PrintCurrentStatus()\n",
    "print(bo7.bounds)\n",
    "# BOPackage.PlotData(bo4)\n",
    "\n",
    "BO7 = bo7.BestData()[1][0]"
   ]
  },
  {
   "cell_type": "code",
   "execution_count": 17,
   "metadata": {},
   "outputs": [
    {
     "name": "stdout",
     "output_type": "stream",
     "text": [
      "Current best y value was [-5.45579557]; the corresponding X values were [1.74067573 4.47019041]\n",
      "The bounds have been reduced 5 times\n",
      "[[1.64250096 1.8388505 ]\n",
      " [4.37201564 4.56836518]]\n"
     ]
    }
   ],
   "source": [
    "\"\"\"\n",
    "Configure the optimiser with sub-batch sampling and bounds reduction.\n",
    "\"\"\"\n",
    "\n",
    "dynamic_bounds = True\n",
    "iterations_between_reducing_bounds = 3\n",
    "first_reduce_bounds = 10 \n",
    "\n",
    "# Create the object\n",
    "bo8 = BOPackage.BO(KernelFunction=Kernel, \n",
    "                  length_scale=length_scale, \n",
    "                  AcquisitionFunction=AcquisitionFunction, \n",
    "                  bounds=bounds, \n",
    "                  acquisition_samples=acquisition_samples,\n",
    "                #   log_path=log_path,\n",
    "                  dynamic_bounds=dynamic_bounds,\n",
    "                  iterations_between_reducing_bounds=iterations_between_reducing_bounds,\n",
    "                  first_reduce_bounds=first_reduce_bounds,\n",
    "                  reduce_bounds_factor=reduce_bounds_factor,\n",
    "                  random_seed=random_seed)\n",
    "\n",
    "raw_X = bo8.GetRandomXBatch(10)\n",
    "raw_y = ObjectiveFunction(raw_X)\n",
    "bo8.UpdateData(raw_X, raw_y)\n",
    "\n",
    "for i in range(29):\n",
    "    raw_X = bo8.GetNextXBatch(10, sub_batch_size=2, max_kappa=max_kappa, min_kappa=min_kappa)\n",
    "    raw_y = ObjectiveFunction(raw_X)\n",
    "    bo8.UpdateData(raw_X, raw_y)\n",
    "    \n",
    "\n",
    "bo8.PrintCurrentStatus()\n",
    "print(bo8.bounds)\n",
    "# BOPackage.PlotData(bo5)\n",
    "\n",
    "BO8 = bo8.BestData()[1][0]"
   ]
  },
  {
   "cell_type": "code",
   "execution_count": 18,
   "metadata": {},
   "outputs": [
    {
     "name": "stdout",
     "output_type": "stream",
     "text": [
      "[-0.27141422] [-0.2574526] [-0.27141422] [-0.27141422] [-5.3966655] [-5.45579557] [-5.41980962] [-5.45579557]\n"
     ]
    }
   ],
   "source": [
    "print(BO1, BO2, BO3, BO6, BO4, BO5, BO7, BO8)"
   ]
  },
  {
   "cell_type": "markdown",
   "metadata": {},
   "source": []
  },
  {
   "cell_type": "markdown",
   "metadata": {},
   "source": []
  }
 ],
 "metadata": {
  "kernelspec": {
   "display_name": "Python 3",
   "language": "python",
   "name": "python3"
  },
  "language_info": {
   "codemirror_mode": {
    "name": "ipython",
    "version": 3
   },
   "file_extension": ".py",
   "mimetype": "text/x-python",
   "name": "python",
   "nbconvert_exporter": "python",
   "pygments_lexer": "ipython3",
   "version": "3.12.1"
  }
 },
 "nbformat": 4,
 "nbformat_minor": 2
}
