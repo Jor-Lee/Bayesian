{
 "cells": [
  {
   "cell_type": "code",
   "execution_count": null,
   "metadata": {},
   "outputs": [],
   "source": [
    "import os\n",
    "\n",
    "os.chdir('/work4/clf/david/Bayesian/BayesianGit')\n",
    "\n",
    "from BOPackage import BO, RBF_Kernel, UpperConfidenceBound\n",
    "import numpy as np"
   ]
  },
  {
   "cell_type": "code",
   "execution_count": null,
   "metadata": {},
   "outputs": [],
   "source": [
    "def ObjectiveFunction(X):\n",
    "    \"\"\"\n",
    "    The objective function must take in an (N, D) numpy array and output an (N, 1) numpy array.\n",
    "\n",
    "    Parameters:\n",
    "    - X: np.ndarray of shape (N, D)\n",
    "        An array where N represents the number of points in the batch and D represents the number of dimensions in the parameter space.\n",
    "\n",
    "    Returns:\n",
    "    - np.ndarray of shape (N, 1)\n",
    "        An array where N represents the number of points, and each entry corresponds to the output of the objective function for the respective input point in X.\n",
    "    \"\"\"\n",
    "    return y"
   ]
  },
  {
   "cell_type": "code",
   "execution_count": null,
   "metadata": {},
   "outputs": [],
   "source": [
    "# Set up the Bayesian Optimizer\n",
    "optimizer = BO(\n",
    "    KernelFunction=RBF_Kernel,\n",
    "    length_scale=1.0,\n",
    "    AcquisitionFunction=UpperConfidenceBound,\n",
    "    bounds=np.array([[0, 1]]),  # Example bounds for a 1D problem\n",
    "    acquisition_samples=100  # When the acquisition function is maximised to find the next point, 'acquisition_samples' random samples are taken of the acquisition function and the maximum of these is chosen.\n",
    "    )"
   ]
  },
  {
   "cell_type": "code",
   "execution_count": null,
   "metadata": {},
   "outputs": [],
   "source": [
    "# Run the optimization\n",
    "for _ in range(50):\n",
    "    next_point = optimizer.GetNextX()\n",
    "    # Evaluate your objective function at `next_point` and update the optimizer\n",
    "    result = ObjectiveFunction(next_point)\n",
    "    optimizer.UpdateData(next_point, result)"
   ]
  }
 ],
 "metadata": {
  "language_info": {
   "name": "python"
  }
 },
 "nbformat": 4,
 "nbformat_minor": 2
}
