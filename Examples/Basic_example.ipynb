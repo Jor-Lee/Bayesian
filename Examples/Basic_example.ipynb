{
 "cells": [
  {
   "cell_type": "code",
   "execution_count": 1,
   "metadata": {},
   "outputs": [],
   "source": [
    "import os\n",
    "\n",
    "os.chdir('/work4/clf/david/Bayesian/BayesianGit')\n",
    "\n",
    "from BOPackage import BO, RBF_Kernel, UpperConfidenceBound\n",
    "import numpy as np"
   ]
  },
  {
   "cell_type": "code",
   "execution_count": 2,
   "metadata": {},
   "outputs": [],
   "source": [
    "def ObjectiveFunction(X):\n",
    "    \"\"\"\n",
    "    The objective function must take in an (N, D) numpy array and output an (N, 1) numpy array.\n",
    "\n",
    "    Parameters:\n",
    "    - X: np.ndarray of shape (N, D)\n",
    "        An array where N represents the number of points in the batch and D represents the number of dimensions in the parameter space.\n",
    "\n",
    "    Returns:\n",
    "    - np.ndarray of shape (N, 1)\n",
    "        An array where N represents the number of points, and each entry corresponds to the output of the objective function for the respective input point in X.\n",
    "    \"\"\"\n",
    "    return y"
   ]
  },
  {
   "cell_type": "code",
   "execution_count": 3,
   "metadata": {},
   "outputs": [],
   "source": [
    "# Set up the Bayesian Optimizer\n",
    "optimizer = BO(\n",
    "    KernelFunction=RBF_Kernel,\n",
    "    length_scale=1.0,\n",
    "    AcquisitionFunction=UpperConfidenceBound,\n",
    "    bounds=np.array([[0, 1]]),  # Example bounds for a 1D problem\n",
    "    acquisition_samples=100  # When the acquisition function is maximised to find the next point, 'acquisition_samples' random samples are taken of the acquisition function and the maximum of these is chosen.\n",
    "    )"
   ]
  },
  {
   "cell_type": "code",
   "execution_count": 4,
   "metadata": {},
   "outputs": [
    {
     "ename": "NameError",
     "evalue": "name 'y' is not defined",
     "output_type": "error",
     "traceback": [
      "\u001b[0;31m---------------------------------------------------------------------------\u001b[0m",
      "\u001b[0;31mNameError\u001b[0m                                 Traceback (most recent call last)",
      "Cell \u001b[0;32mIn[4], line 5\u001b[0m\n\u001b[1;32m      3\u001b[0m next_point \u001b[38;5;241m=\u001b[39m optimizer\u001b[38;5;241m.\u001b[39mGetNextX()\n\u001b[1;32m      4\u001b[0m \u001b[38;5;66;03m# Evaluate your objective function at `next_point` and update the optimizer\u001b[39;00m\n\u001b[0;32m----> 5\u001b[0m result \u001b[38;5;241m=\u001b[39m \u001b[43mObjectiveFunction\u001b[49m\u001b[43m(\u001b[49m\u001b[43mnext_point\u001b[49m\u001b[43m)\u001b[49m\n\u001b[1;32m      6\u001b[0m optimizer\u001b[38;5;241m.\u001b[39mUpdateData(next_point, result)\n",
      "Cell \u001b[0;32mIn[2], line 13\u001b[0m, in \u001b[0;36mObjectiveFunction\u001b[0;34m(X)\u001b[0m\n\u001b[1;32m      1\u001b[0m \u001b[38;5;28;01mdef\u001b[39;00m \u001b[38;5;21mObjectiveFunction\u001b[39m(X):\n\u001b[1;32m      2\u001b[0m \u001b[38;5;250m    \u001b[39m\u001b[38;5;124;03m\"\"\"\u001b[39;00m\n\u001b[1;32m      3\u001b[0m \u001b[38;5;124;03m    The objective function must take in an (N, D) numpy array and output an (N, 1) numpy array.\u001b[39;00m\n\u001b[1;32m      4\u001b[0m \n\u001b[0;32m   (...)\u001b[0m\n\u001b[1;32m     11\u001b[0m \u001b[38;5;124;03m        An array where N represents the number of points, and each entry corresponds to the output of the objective function for the respective input point in X.\u001b[39;00m\n\u001b[1;32m     12\u001b[0m \u001b[38;5;124;03m    \"\"\"\u001b[39;00m\n\u001b[0;32m---> 13\u001b[0m     \u001b[38;5;28;01mreturn\u001b[39;00m \u001b[43my\u001b[49m\n",
      "\u001b[0;31mNameError\u001b[0m: name 'y' is not defined"
     ]
    }
   ],
   "source": [
    "# Run the optimization\n",
    "for _ in range(50):\n",
    "    next_point = optimizer.GetNextX()\n",
    "    # Evaluate your objective function at `next_point` and update the optimizer\n",
    "    result = ObjectiveFunction(next_point)\n",
    "    optimizer.UpdateData(next_point, result)"
   ]
  }
 ],
 "metadata": {
  "kernelspec": {
   "display_name": "Bayesian",
   "language": "python",
   "name": "python3"
  },
  "language_info": {
   "codemirror_mode": {
    "name": "ipython",
    "version": 3
   },
   "file_extension": ".py",
   "mimetype": "text/x-python",
   "name": "python",
   "nbconvert_exporter": "python",
   "pygments_lexer": "ipython3",
   "version": "3.11.5"
  }
 },
 "nbformat": 4,
 "nbformat_minor": 2
}
